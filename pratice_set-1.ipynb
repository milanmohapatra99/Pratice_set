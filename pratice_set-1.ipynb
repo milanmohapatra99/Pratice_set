{
 "cells": [
  {
   "cell_type": "code",
   "execution_count": 1,
   "id": "ccf80c70",
   "metadata": {},
   "outputs": [
    {
     "name": "stdout",
     "output_type": "stream",
     "text": [
      "Enter 1st no:-21\n",
      "Enter 1st no:-23\n",
      "44\n"
     ]
    }
   ],
   "source": [
    "#w.a.p to add 2 nos\n",
    "a = int(input(\"Enter 1st no:-\"))\n",
    "b = int(input(\"Enter 2nd no:-\"))\n",
    "c = a + b\n",
    "print(c)"
   ]
  },
  {
   "cell_type": "code",
   "execution_count": 3,
   "id": "bf9e4c15",
   "metadata": {},
   "outputs": [
    {
     "name": "stdout",
     "output_type": "stream",
     "text": [
      "Enter 1st no:-458\n",
      "Enter 2nd no:-15\n",
      "The reminder when a is divided by b is 8\n"
     ]
    }
   ],
   "source": [
    "#w.a.p to find reminder when a number is divided by z\n",
    "a = int(input(\"Enter 1st no:-\"))\n",
    "b = int(input(\"Enter 2nd no:-\"))\n",
    "print(\"The reminder when a is divided by b is\",a % b)"
   ]
  },
  {
   "cell_type": "code",
   "execution_count": 7,
   "id": "109892bf",
   "metadata": {},
   "outputs": [
    {
     "name": "stdout",
     "output_type": "stream",
     "text": [
      "Enter a no:-23\n",
      "<class 'str'>\n",
      "Enter a no:-34\n",
      "<class 'int'>\n"
     ]
    }
   ],
   "source": [
    "#check the type of the variable assigned using input()\n",
    "a = input(\"Enter a no:-\")\n",
    "print(type(a))\n",
    "a = int(input(\"Enter a no:-\"))\n",
    "print(type(a))"
   ]
  },
  {
   "cell_type": "code",
   "execution_count": 10,
   "id": "85c55d00",
   "metadata": {},
   "outputs": [
    {
     "name": "stdout",
     "output_type": "stream",
     "text": [
      "Enter 1st no:-45\n",
      "Enter 2nd no:-65\n",
      "False\n",
      "Enter 1st no:-85\n",
      "Enter 2nd no:-98\n",
      "True\n"
     ]
    }
   ],
   "source": [
    "'''use comparision operator to find out wheather a given variable \n",
    "a is greater than b or not'''\n",
    "a = int(input(\"Enter 1st no:-\"))\n",
    "b = int(input(\"Enter 2nd no:-\"))\n",
    "print(a > b )\n",
    "a = int(input(\"Enter 1st no:-\"))\n",
    "b = int(input(\"Enter 2nd no:-\"))\n",
    "print(b > a )"
   ]
  },
  {
   "cell_type": "code",
   "execution_count": 11,
   "id": "bb1f3ed2",
   "metadata": {},
   "outputs": [
    {
     "name": "stdout",
     "output_type": "stream",
     "text": [
      "Enter 1st no:-23\n",
      "Enter 2nd no:-65\n",
      "The avg is:- 91.5\n"
     ]
    }
   ],
   "source": [
    "#w.a.p to find average of our numbers entered by the user\n",
    "x = int(input(\"Enter 1st no:-\"))\n",
    "y = int(input(\"Enter 2nd no:-\"))\n",
    "avg = (a + b)/2\n",
    "print(\"The avg is:-\",avg)"
   ]
  },
  {
   "cell_type": "code",
   "execution_count": 12,
   "id": "25cc83a0",
   "metadata": {},
   "outputs": [
    {
     "name": "stdout",
     "output_type": "stream",
     "text": [
      "Enter 1st no:-2\n",
      "4\n"
     ]
    }
   ],
   "source": [
    "#w.a.p to calculate square of a number enter by the user\n",
    "i = int(input(\"Enter 1st no:-\"))\n",
    "print (i * i)"
   ]
  },
  {
   "cell_type": "code",
   "execution_count": null,
   "id": "7130630a",
   "metadata": {},
   "outputs": [],
   "source": []
  }
 ],
 "metadata": {
  "kernelspec": {
   "display_name": "Python 3 (ipykernel)",
   "language": "python",
   "name": "python3"
  },
  "language_info": {
   "codemirror_mode": {
    "name": "ipython",
    "version": 3
   },
   "file_extension": ".py",
   "mimetype": "text/x-python",
   "name": "python",
   "nbconvert_exporter": "python",
   "pygments_lexer": "ipython3",
   "version": "3.9.7"
  }
 },
 "nbformat": 4,
 "nbformat_minor": 5
}
